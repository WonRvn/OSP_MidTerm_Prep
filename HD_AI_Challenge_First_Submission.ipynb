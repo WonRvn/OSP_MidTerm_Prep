{
 "cells": [
  {
   "cell_type": "code",
   "execution_count": null,
   "metadata": {
    "colab": {
     "base_uri": "https://localhost:8080/"
    },
    "id": "DVhIJnaFe-qA",
    "outputId": "a2988f43-b5a1-42f9-ef74-e4315aad265e"
   },
   "outputs": [],
   "source": [
    "from google.colab import drive\n",
    "drive.mount('/content/drive')"
   ]
  },
  {
   "cell_type": "code",
   "execution_count": null,
   "metadata": {
    "id": "QlQuHtB2Hmei"
   },
   "outputs": [],
   "source": [
    "import random\n",
    "import pandas as pd\n",
    "import numpy as np\n",
    "import os\n",
    "\n",
    "from sklearn.neighbors import KNeighborsRegressor\n",
    "\n",
    "import warnings\n",
    "warnings.filterwarnings(action='ignore')"
   ]
  },
  {
   "cell_type": "markdown",
   "metadata": {
    "id": "zplYku3sggjN"
   },
   "source": [
    "## Fixed Random-Seed"
   ]
  },
  {
   "cell_type": "code",
   "execution_count": null,
   "metadata": {
    "id": "iN09os_dgjBe"
   },
   "outputs": [],
   "source": [
    "def seed_everything(seed):\n",
    "    random.seed(seed)\n",
    "    os.environ['PYTHONHASHSEED'] = str(seed)\n",
    "    np.random.seed(seed)\n",
    "\n",
    "seed_everything(42) # Seed 고정"
   ]
  },
  {
   "cell_type": "markdown",
   "metadata": {
    "id": "bKmsbd6Fgkrm"
   },
   "source": [
    "## Load Data"
   ]
  },
  {
   "cell_type": "code",
   "execution_count": null,
   "metadata": {
    "id": "9AwzLJD0UUqU"
   },
   "outputs": [],
   "source": [
    "train_df = pd.read_csv('/content/drive/MyDrive/competition/Electricity Usage/train.csv')\n",
    "test_df = pd.read_csv('/content/drive/MyDrive/competition/Electricity Usage/test.csv')"
   ]
  },
  {
   "cell_type": "markdown",
   "metadata": {
    "id": "b6OPWD8lgooo"
   },
   "source": [
    "## Train Data Pre-Processing"
   ]
  },
  {
   "cell_type": "code",
   "execution_count": null,
   "metadata": {
    "id": "JNrYoK52UzKn"
   },
   "outputs": [],
   "source": [
    "# 결측값을 0으로 채웁니다\n",
    "train_df = train_df.fillna(0)"
   ]
  },
  {
   "cell_type": "code",
   "execution_count": null,
   "metadata": {
    "id": "0wAqZR10U0T0"
   },
   "outputs": [],
   "source": [
    "# 시계열 특성을 학습에 반영하기 위해 일시를 월, 일, 시간으로 나눕니다\n",
    "train_df['month'] = train_df['일시'].apply(lambda x : int(x[4:6]))\n",
    "train_df['day'] = train_df['일시'].apply(lambda x : int(x[6:8]))\n",
    "train_df['time'] = train_df['일시'].apply(lambda x : int(x[9:11]))"
   ]
  },
  {
   "cell_type": "code",
   "execution_count": null,
   "metadata": {
    "id": "R4YSw3JnU3DJ"
   },
   "outputs": [],
   "source": [
    "train_x = train_df.drop(columns=['num_date_time', '일시', '일조(hr)', '일사(MJ/m2)', '전력소비량(kWh)'])\n",
    "train_y = train_df['전력소비량(kWh)']"
   ]
  },
  {
   "cell_type": "markdown",
   "metadata": {
    "id": "rjS3Fft3ukgB"
   },
   "source": [
    "## Regression Model Fit"
   ]
  },
  {
   "cell_type": "code",
   "execution_count": null,
   "metadata": {
    "colab": {
     "base_uri": "https://localhost:8080/",
     "height": 75
    },
    "id": "cu40jnpQumRV",
    "outputId": "c347cfe8-7737-4077-c707-22440203b169"
   },
   "outputs": [],
   "source": [
    "model = KNeighborsRegressor()\n",
    "model.fit(train_x, train_y)"
   ]
  },
  {
   "cell_type": "markdown",
   "metadata": {
    "id": "oHC5GbQOgsOH"
   },
   "source": [
    "## Test Data Pre-Processing"
   ]
  },
  {
   "cell_type": "code",
   "execution_count": null,
   "metadata": {
    "id": "Qia_eYpWU7xd"
   },
   "outputs": [],
   "source": [
    "test_df['month'] = test_df['일시'].apply(lambda x : int(x[4:6]))\n",
    "test_df['day'] = test_df['일시'].apply(lambda x : int(x[6:8]))\n",
    "test_df['time'] = test_df['일시'].apply(lambda x : int(x[9:11]))"
   ]
  },
  {
   "cell_type": "code",
   "execution_count": null,
   "metadata": {
    "id": "u3hq_cg_U822"
   },
   "outputs": [],
   "source": [
    "test_x = test_df.drop(columns=['num_date_time', '일시'])"
   ]
  },
  {
   "cell_type": "markdown",
   "metadata": {
    "id": "zP6aVLgtuo_5"
   },
   "source": [
    "## Inference"
   ]
  },
  {
   "cell_type": "code",
   "execution_count": null,
   "metadata": {
    "id": "D9TXQiHnup6R"
   },
   "outputs": [],
   "source": [
    "preds = model.predict(test_x)"
   ]
  },
  {
   "cell_type": "markdown",
   "metadata": {
    "id": "UiipUf8zfY_B"
   },
   "source": [
    "## Submission"
   ]
  },
  {
   "cell_type": "code",
   "execution_count": null,
   "metadata": {
    "id": "OSfYq3ZdVEwm"
   },
   "outputs": [],
   "source": [
    "submission = pd.read_csv('/content/drive/MyDrive/competition/Electricity Usage/sample_submission.csv')\n",
    "submission\n",
    "\n",
    "submission['answer'] = preds\n",
    "submission\n",
    "\n",
    "submission.to_csv('/content/drive/MyDrive/competition/Electricity Usage/baseline_submission.csv', index=False)"
   ]
  }
 ],
 "metadata": {
  "colab": {
   "provenance": []
  },
  "kernelspec": {
   "display_name": "Python 3",
   "name": "python3"
  },
  "language_info": {
   "name": "python"
  }
 },
 "nbformat": 4,
 "nbformat_minor": 0
}
