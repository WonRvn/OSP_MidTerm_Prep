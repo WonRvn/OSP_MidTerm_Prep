{
 "cells": [
  {
   "cell_type": "code",
   "execution_count": null,
   "metadata": {
    "id": "7vlSeGU04rpw"
   },
   "outputs": [],
   "source": [
    "import pandas as pd\n",
    "from sklearn.model_selection import train_test_split\n",
    "from sklearn.preprocessing import StandardScaler, OneHotEncoder\n",
    "from sklearn.compose import ColumnTransformer\n",
    "from sklearn.pipeline import Pipeline\n",
    "from sklearn.impute import SimpleImputer\n",
    "from sklearn.experimental import enable_hist_gradient_boosting\n",
    "from sklearn.ensemble import HistGradientBoostingRegressor\n",
    "from sklearn.metrics import mean_absolute_error\n",
    "from sklearn.preprocessing import FunctionTransformer\n",
    "from sklearn.base import BaseEstimator, TransformerMixin"
   ]
  },
  {
   "cell_type": "code",
   "execution_count": null,
   "metadata": {
    "id": "bJW-425g5H9S"
   },
   "outputs": [],
   "source": [
    "train_df = pd.read_csv('/content/drive/MyDrive/competition/HD_AI_Challenge/train.csv')\n",
    "test_df = pd.read_csv('/content/drive/MyDrive/competition/HD_AI_Challenge/test.csv')"
   ]
  },
  {
   "cell_type": "code",
   "execution_count": null,
   "metadata": {
    "colab": {
     "base_uri": "https://localhost:8080/",
     "height": 808
    },
    "id": "0Ww0kcDA5KK9",
    "outputId": "4a9b3b92-7e9e-469b-a4a4-715c29acbad7"
   },
   "outputs": [],
   "source": [
    "train_df"
   ]
  },
  {
   "cell_type": "code",
   "execution_count": null,
   "metadata": {
    "id": "fRwuJ0qy7Myk"
   },
   "outputs": [],
   "source": [
    "# Identify categorical and numerical columns\n",
    "categorical_cols = [cname for cname in train_df.columns if\n",
    "                    train_df[cname].dtype == \"object\" and\n",
    "                    cname != \"SAMPLE_ID\"]\n",
    "numerical_cols = [cname for cname in train_df.columns if\n",
    "                  train_df[cname].dtype in ['int64', 'float64'] and\n",
    "                  cname != \"CI_HOUR\"]"
   ]
  },
  {
   "cell_type": "code",
   "execution_count": null,
   "metadata": {
    "id": "ek4Op9I6AsCB"
   },
   "outputs": [],
   "source": [
    "# Preprocessing for numerical data: imputation and scaling\n",
    "numerical_transformer = Pipeline(steps=[\n",
    "    ('imputer', SimpleImputer(strategy='mean')),\n",
    "    ('scaler', StandardScaler())])"
   ]
  },
  {
   "cell_type": "code",
   "execution_count": null,
   "metadata": {
    "id": "CfjCs_RJJCTR"
   },
   "outputs": [],
   "source": [
    "# Custom transformer for frequency encoding\n",
    "class FrequencyEncoder(BaseEstimator, TransformerMixin):\n",
    "    def __init__(self, columns):\n",
    "        self.columns = columns\n",
    "        self.freq_map = {}\n",
    "\n",
    "    def fit(self, X, y=None):\n",
    "        X_df = pd.DataFrame(X, columns=self.columns)\n",
    "        for col in self.columns:\n",
    "            self.freq_map[col] = X_df[col].value_counts()\n",
    "        return self\n",
    "\n",
    "    def transform(self, X, y=None):\n",
    "        X_transformed = pd.DataFrame(X, columns=self.columns).copy()\n",
    "        for col in self.columns:\n",
    "            X_transformed[col] = X_transformed[col].map(self.freq_map[col])\n",
    "        return X_transformed"
   ]
  },
  {
   "cell_type": "code",
   "execution_count": null,
   "metadata": {
    "id": "UmSvhw5NAtHy"
   },
   "outputs": [],
   "source": [
    "# Adjust the categorical transformer to pass the column names to the FrequencyEncoder\n",
    "categorical_transformer = Pipeline(steps=[\n",
    "    ('imputer', SimpleImputer(strategy='most_frequent')),\n",
    "    ('frequency', FrequencyEncoder(columns=categorical_cols))])"
   ]
  },
  {
   "cell_type": "code",
   "execution_count": null,
   "metadata": {
    "id": "YjxTdAwXAuZy"
   },
   "outputs": [],
   "source": [
    "# Bundle preprocessing for numerical and categorical data\n",
    "preprocessor = ColumnTransformer(\n",
    "    transformers=[\n",
    "        ('num', numerical_transformer, numerical_cols),\n",
    "        ('cat', categorical_transformer, categorical_cols)])"
   ]
  },
  {
   "cell_type": "code",
   "execution_count": null,
   "metadata": {
    "id": "7aN-IPfkAvwt"
   },
   "outputs": [],
   "source": [
    "# Define the model\n",
    "model = HistGradientBoostingRegressor()"
   ]
  },
  {
   "cell_type": "code",
   "execution_count": null,
   "metadata": {
    "id": "POIAqqQ7AwNg"
   },
   "outputs": [],
   "source": [
    "# Bundle preprocessing and modeling code in a pipeline\n",
    "pipeline = Pipeline(steps=[('preprocessor', preprocessor),\n",
    "                           ('model', model)])"
   ]
  },
  {
   "cell_type": "code",
   "execution_count": null,
   "metadata": {
    "id": "giLyfbktAygK"
   },
   "outputs": [],
   "source": [
    "# Separate target from predictors\n",
    "X = train_df.drop([\"SAMPLE_ID\", \"CI_HOUR\"], axis=1)\n",
    "y = train_df[\"CI_HOUR\"]"
   ]
  },
  {
   "cell_type": "code",
   "execution_count": null,
   "metadata": {
    "id": "J2BW_Nl-AzpR"
   },
   "outputs": [],
   "source": [
    "# Split the data\n",
    "X_train, X_valid, y_train, y_valid = train_test_split(X, y, train_size=0.8, test_size=0.2, random_state=0)"
   ]
  },
  {
   "cell_type": "code",
   "execution_count": null,
   "metadata": {
    "colab": {
     "base_uri": "https://localhost:8080/",
     "height": 225
    },
    "id": "8sJhDhRIA1A1",
    "outputId": "36c4e954-5e25-41ba-a0b8-38d93f5b73c7"
   },
   "outputs": [],
   "source": [
    "# Preprocessing of training data and train model\n",
    "pipeline.fit(X_train, y_train)"
   ]
  },
  {
   "cell_type": "code",
   "execution_count": null,
   "metadata": {
    "id": "eMgAeZ0_A2ds"
   },
   "outputs": [],
   "source": [
    "# Preprocessing of validation data and get predictions\n",
    "preds = pipeline.predict(X_valid)"
   ]
  },
  {
   "cell_type": "code",
   "execution_count": null,
   "metadata": {
    "colab": {
     "base_uri": "https://localhost:8080/"
    },
    "id": "3jauu-qcA38x",
    "outputId": "110f4329-51c3-4a37-e2c1-0324ed23c390"
   },
   "outputs": [],
   "source": [
    "# Evaluate the model\n",
    "score = mean_absolute_error(y_valid, preds)\n",
    "print('MAE:', score)"
   ]
  },
  {
   "cell_type": "code",
   "execution_count": null,
   "metadata": {
    "colab": {
     "base_uri": "https://localhost:8080/"
    },
    "id": "-i_edo6gLb48",
    "outputId": "8088ad5f-0bc1-4c85-879b-d57f3c1f93dd"
   },
   "outputs": [],
   "source": [
    "ci_hour_stats = train_df[\"CI_HOUR\"].describe()\n",
    "print(ci_hour_stats)"
   ]
  },
  {
   "cell_type": "code",
   "execution_count": null,
   "metadata": {
    "id": "kHuYa0v3A5ll"
   },
   "outputs": [],
   "source": [
    "# Predict on test data\n",
    "X_test = test_df.drop(\"SAMPLE_ID\", axis=1)\n",
    "test_preds = pipeline.predict(X_test)"
   ]
  },
  {
   "cell_type": "code",
   "execution_count": null,
   "metadata": {
    "id": "4p4gbXVPA56T"
   },
   "outputs": [],
   "source": [
    "# Save predictions\n",
    "output = pd.DataFrame({'SAMPLE_ID': test_df.SAMPLE_ID, 'CI_HOUR': test_preds})\n",
    "output.to_csv('/content/drive/MyDrive/competition/HD_AI_Challenge/sample_submission.csv', index=False)"
   ]
  }
 ],
 "metadata": {
  "colab": {
   "provenance": []
  },
  "kernelspec": {
   "display_name": "Python 3",
   "name": "python3"
  },
  "language_info": {
   "name": "python"
  }
 },
 "nbformat": 4,
 "nbformat_minor": 0
}
